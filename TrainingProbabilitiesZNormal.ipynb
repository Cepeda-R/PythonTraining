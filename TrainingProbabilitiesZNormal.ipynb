{
  "nbformat": 4,
  "nbformat_minor": 0,
  "metadata": {
    "colab": {
      "provenance": [],
      "authorship_tag": "ABX9TyNdROSY8E9rJH4pA22flBBd",
      "include_colab_link": true
    },
    "kernelspec": {
      "name": "python3",
      "display_name": "Python 3"
    }
  },
  "cells": [
    {
      "cell_type": "markdown",
      "metadata": {
        "id": "view-in-github",
        "colab_type": "text"
      },
      "source": [
        "<a href=\"https://colab.research.google.com/github/Cepeda-R/PythonTraining/blob/main/TrainingProbabilitiesZNormal.ipynb\" target=\"_parent\"><img src=\"https://colab.research.google.com/assets/colab-badge.svg\" alt=\"Open In Colab\"/></a>"
      ]
    },
    {
      "cell_type": "markdown",
      "metadata": {
        "id": "PXU7pxA7EFrA"
      },
      "source": [
        "# Compute the probability under the normal/gaussian curve"
      ]
    },
    {
      "cell_type": "markdown",
      "metadata": {
        "id": "EXGZrUduD3_2"
      },
      "source": [
        "The Solution that i found"
      ]
    },
    {
      "cell_type": "code",
      "metadata": {
        "id": "wXRNGrvvCm88"
      },
      "source": [
        "#To find the probability that the variable has a value LESS than or equal\n",
        "#let's say 113, you'd use CDF cumulative Density Function\n",
        "scipy.stats.norm.cdf(113,100,12)\n",
        "Output: 0.86066975255037792\n",
        "#or 86.07% probability\n",
        "\n",
        "#To find the probability that the variable has a value GREATER than or\n",
        "#equal to let's say 125, you'd use SF Survival Function \n",
        "scipy.stats.norm.sf(125,100,12)\n",
        "Output: 0.018610425189886332\n",
        "#or 1.86%\n",
        "\n",
        "#To find the variate for which the probability is given, let's say the \n",
        "#value which needed to provide a 98% probability, you'd use the \n",
        "#PPF Percent Point Function\n",
        "scipy.stats.norm.ppf(.98,100,12)\n",
        "Output: 124.64498692758187"
      ],
      "execution_count": null,
      "outputs": []
    },
    {
      "cell_type": "markdown",
      "metadata": {
        "id": "6sWezr5DED8t"
      },
      "source": [
        "Applying to Real Data - Scripting"
      ]
    },
    {
      "cell_type": "code",
      "metadata": {
        "id": "TMDwJK4nDJN1"
      },
      "source": [
        "import scipy.stats"
      ],
      "execution_count": null,
      "outputs": []
    },
    {
      "cell_type": "code",
      "metadata": {
        "id": "JS6MTMO_Ci-c"
      },
      "source": [
        "mean = 9.317626\n",
        "sdev = 0.211995\n",
        "lim_inferior = 8.99691\n",
        "lim_superior = 11.14333"
      ],
      "execution_count": null,
      "outputs": []
    },
    {
      "cell_type": "code",
      "metadata": {
        "id": "yOCKBi8bEaUd",
        "outputId": "8e9a5898-154f-40d5-d839-df26e96ffb2d",
        "colab": {
          "base_uri": "https://localhost:8080/",
          "height": 71
        }
      },
      "source": [
        "#Relativo ao Limite Inferior\n",
        "prob_bellow = scipy.stats.norm.cdf(lim_inferior,mean,sdev)\n",
        "print(f'The probability of having NOK parts is {prob_bellow*100}%')\n",
        "print(f'The probability of having OK parts is {(1-prob_bellow)*100}%')"
      ],
      "execution_count": null,
      "outputs": [
        {
          "output_type": "stream",
          "text": [
            "The probability of having NOK parts is 6.515926341386748%\n",
            "The probability of having OK parts is 93.48407365861326%\n"
          ],
          "name": "stdout"
        }
      ]
    },
    {
      "cell_type": "code",
      "metadata": {
        "id": "hgSIYhJ9DWVY",
        "outputId": "dc6da3fe-e007-4f56-cbaf-6375795aa055",
        "colab": {
          "base_uri": "https://localhost:8080/",
          "height": 50
        }
      },
      "source": [
        "#Relativo ao Limite Superior\n",
        "prob_above = scipy.stats.norm.sf(lim_superior,mean,sdev)\n",
        "print(f'The probability of having NOK parts is {prob_above*100}%')\n",
        "print(f'The probability of having OK parts is {(1-prob_above)*100}%')"
      ],
      "execution_count": null,
      "outputs": [
        {
          "output_type": "stream",
          "text": [
            "The probability of having NOK parts is 3.5893901346340047e-16%\n",
            "The probability of having OK parts is 100.0%\n"
          ],
          "name": "stdout"
        }
      ]
    }
  ]
}