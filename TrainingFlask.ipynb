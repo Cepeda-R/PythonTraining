{
  "nbformat": 4,
  "nbformat_minor": 0,
  "metadata": {
    "colab": {
      "provenance": [],
      "mount_file_id": "14gUNZXZLoeXkuPJj0WLuLyTKffdOxpnT",
      "authorship_tag": "ABX9TyNZnFk0slKs7D8RbcdGLi5U",
      "include_colab_link": true
    },
    "kernelspec": {
      "name": "python3",
      "display_name": "Python 3"
    },
    "language_info": {
      "name": "python"
    }
  },
  "cells": [
    {
      "cell_type": "markdown",
      "metadata": {
        "id": "view-in-github",
        "colab_type": "text"
      },
      "source": [
        "<a href=\"https://colab.research.google.com/github/Cepeda-R/PythonTraining/blob/main/TrainingFlask.ipynb\" target=\"_parent\"><img src=\"https://colab.research.google.com/assets/colab-badge.svg\" alt=\"Open In Colab\"/></a>"
      ]
    },
    {
      "cell_type": "markdown",
      "source": [
        "Faz o seguinte: levanta um serviço web em flask.\n",
        "* Treina um modelo\n",
        "* Quando acedes a um endpoint faz um pedido ao modelo\n",
        "* Quando acedes ao endpoint2 treinas um novo modelo\n",
        "* Para já deve chegar isto\n",
        "* Depois se quiseres\n",
        "* Mete numa BD os dados que vão ser tratados\n",
        "* E ilustra com tableau ou power bi"
      ],
      "metadata": {
        "id": "DodnSSXXqgJo"
      }
    },
    {
      "cell_type": "code",
      "source": [
        "#general\n",
        "import numpy as np\n",
        "import pandas as pd\n",
        "import matplotlib.pyplot as plt\n",
        "import seaborn as sns\n",
        "import datetime\n",
        "from datetime import date\n",
        "#from pandas import datetime => deprecated\n",
        "\n",
        "#visual charts\n",
        "import plotly.express as px\n",
        "import plotly.graph_objects as go\n",
        "import plotly.figure_factory as ff\n",
        "\n",
        "#statistics\n",
        "from scipy.stats import shapiro\n",
        "import statsmodels.api as sm \n",
        "import pylab as py \n",
        "\n",
        "#misc\n",
        "import warnings\n",
        "warnings.filterwarnings(\"ignore\")\n",
        "%matplotlib inline\n",
        "%config IPCompleter.greedy=True"
      ],
      "metadata": {
        "id": "d63_k_0cLrIV"
      },
      "execution_count": null,
      "outputs": []
    },
    {
      "cell_type": "code",
      "source": [
        "!git clone https://github.com/Cepeda-R/DataSets\n",
        "#para coletar as DBs do GitHub"
      ],
      "metadata": {
        "colab": {
          "base_uri": "https://localhost:8080/"
        },
        "id": "sTsXkhlaLrFQ",
        "outputId": "ab12677a-12dc-42e7-9aca-16534f47d754"
      },
      "execution_count": null,
      "outputs": [
        {
          "output_type": "stream",
          "name": "stdout",
          "text": [
            "fatal: destination path 'DataSets' already exists and is not an empty directory.\n"
          ]
        }
      ]
    },
    {
      "cell_type": "code",
      "source": [
        "BragaData = pd.read_csv('DataSets/CSV_Meteo_BRAGA_RAIN - Folha1.csv')\n",
        "BragaData.head(5)"
      ],
      "metadata": {
        "colab": {
          "base_uri": "https://localhost:8080/",
          "height": 206
        },
        "id": "Mpb0e3oELq_Q",
        "outputId": "28cee6c3-1016-4fd4-f57b-94495eac4cfd"
      },
      "execution_count": null,
      "outputs": [
        {
          "output_type": "execute_result",
          "data": {
            "text/plain": [
              "               Data        SAMEIRO (04G/02UG)                Unnamed: 2  \\\n",
              "0               NaN  Precipitação diária (mm)  Precipitação mensal (mm)   \n",
              "1  01/11/2009 09:00                 (vau) 0.0                  (vc) 0.7   \n",
              "2  02/11/2009 09:00                 (vau) 0.1                         -   \n",
              "3  03/11/2009 09:00                 (vau) 0.0                         -   \n",
              "4  04/11/2009 09:00                 (vau) 0.0                         -   \n",
              "\n",
              "                               Unnamed: 3  \n",
              "0  Velocidade do vento média diária (m/s)  \n",
              "1                                     0.4  \n",
              "2                                     0.7  \n",
              "3                                     0.4  \n",
              "4                                     1.0  "
            ],
            "text/html": [
              "\n",
              "  <div id=\"df-4429a17b-31b2-42ff-901f-20ede18ea9d2\">\n",
              "    <div class=\"colab-df-container\">\n",
              "      <div>\n",
              "<style scoped>\n",
              "    .dataframe tbody tr th:only-of-type {\n",
              "        vertical-align: middle;\n",
              "    }\n",
              "\n",
              "    .dataframe tbody tr th {\n",
              "        vertical-align: top;\n",
              "    }\n",
              "\n",
              "    .dataframe thead th {\n",
              "        text-align: right;\n",
              "    }\n",
              "</style>\n",
              "<table border=\"1\" class=\"dataframe\">\n",
              "  <thead>\n",
              "    <tr style=\"text-align: right;\">\n",
              "      <th></th>\n",
              "      <th>Data</th>\n",
              "      <th>SAMEIRO (04G/02UG)</th>\n",
              "      <th>Unnamed: 2</th>\n",
              "      <th>Unnamed: 3</th>\n",
              "    </tr>\n",
              "  </thead>\n",
              "  <tbody>\n",
              "    <tr>\n",
              "      <th>0</th>\n",
              "      <td>NaN</td>\n",
              "      <td>Precipitação diária (mm)</td>\n",
              "      <td>Precipitação mensal (mm)</td>\n",
              "      <td>Velocidade do vento média diária (m/s)</td>\n",
              "    </tr>\n",
              "    <tr>\n",
              "      <th>1</th>\n",
              "      <td>01/11/2009 09:00</td>\n",
              "      <td>(vau) 0.0</td>\n",
              "      <td>(vc) 0.7</td>\n",
              "      <td>0.4</td>\n",
              "    </tr>\n",
              "    <tr>\n",
              "      <th>2</th>\n",
              "      <td>02/11/2009 09:00</td>\n",
              "      <td>(vau) 0.1</td>\n",
              "      <td>-</td>\n",
              "      <td>0.7</td>\n",
              "    </tr>\n",
              "    <tr>\n",
              "      <th>3</th>\n",
              "      <td>03/11/2009 09:00</td>\n",
              "      <td>(vau) 0.0</td>\n",
              "      <td>-</td>\n",
              "      <td>0.4</td>\n",
              "    </tr>\n",
              "    <tr>\n",
              "      <th>4</th>\n",
              "      <td>04/11/2009 09:00</td>\n",
              "      <td>(vau) 0.0</td>\n",
              "      <td>-</td>\n",
              "      <td>1.0</td>\n",
              "    </tr>\n",
              "  </tbody>\n",
              "</table>\n",
              "</div>\n",
              "      <button class=\"colab-df-convert\" onclick=\"convertToInteractive('df-4429a17b-31b2-42ff-901f-20ede18ea9d2')\"\n",
              "              title=\"Convert this dataframe to an interactive table.\"\n",
              "              style=\"display:none;\">\n",
              "        \n",
              "  <svg xmlns=\"http://www.w3.org/2000/svg\" height=\"24px\"viewBox=\"0 0 24 24\"\n",
              "       width=\"24px\">\n",
              "    <path d=\"M0 0h24v24H0V0z\" fill=\"none\"/>\n",
              "    <path d=\"M18.56 5.44l.94 2.06.94-2.06 2.06-.94-2.06-.94-.94-2.06-.94 2.06-2.06.94zm-11 1L8.5 8.5l.94-2.06 2.06-.94-2.06-.94L8.5 2.5l-.94 2.06-2.06.94zm10 10l.94 2.06.94-2.06 2.06-.94-2.06-.94-.94-2.06-.94 2.06-2.06.94z\"/><path d=\"M17.41 7.96l-1.37-1.37c-.4-.4-.92-.59-1.43-.59-.52 0-1.04.2-1.43.59L10.3 9.45l-7.72 7.72c-.78.78-.78 2.05 0 2.83L4 21.41c.39.39.9.59 1.41.59.51 0 1.02-.2 1.41-.59l7.78-7.78 2.81-2.81c.8-.78.8-2.07 0-2.86zM5.41 20L4 18.59l7.72-7.72 1.47 1.35L5.41 20z\"/>\n",
              "  </svg>\n",
              "      </button>\n",
              "      \n",
              "  <style>\n",
              "    .colab-df-container {\n",
              "      display:flex;\n",
              "      flex-wrap:wrap;\n",
              "      gap: 12px;\n",
              "    }\n",
              "\n",
              "    .colab-df-convert {\n",
              "      background-color: #E8F0FE;\n",
              "      border: none;\n",
              "      border-radius: 50%;\n",
              "      cursor: pointer;\n",
              "      display: none;\n",
              "      fill: #1967D2;\n",
              "      height: 32px;\n",
              "      padding: 0 0 0 0;\n",
              "      width: 32px;\n",
              "    }\n",
              "\n",
              "    .colab-df-convert:hover {\n",
              "      background-color: #E2EBFA;\n",
              "      box-shadow: 0px 1px 2px rgba(60, 64, 67, 0.3), 0px 1px 3px 1px rgba(60, 64, 67, 0.15);\n",
              "      fill: #174EA6;\n",
              "    }\n",
              "\n",
              "    [theme=dark] .colab-df-convert {\n",
              "      background-color: #3B4455;\n",
              "      fill: #D2E3FC;\n",
              "    }\n",
              "\n",
              "    [theme=dark] .colab-df-convert:hover {\n",
              "      background-color: #434B5C;\n",
              "      box-shadow: 0px 1px 3px 1px rgba(0, 0, 0, 0.15);\n",
              "      filter: drop-shadow(0px 1px 2px rgba(0, 0, 0, 0.3));\n",
              "      fill: #FFFFFF;\n",
              "    }\n",
              "  </style>\n",
              "\n",
              "      <script>\n",
              "        const buttonEl =\n",
              "          document.querySelector('#df-4429a17b-31b2-42ff-901f-20ede18ea9d2 button.colab-df-convert');\n",
              "        buttonEl.style.display =\n",
              "          google.colab.kernel.accessAllowed ? 'block' : 'none';\n",
              "\n",
              "        async function convertToInteractive(key) {\n",
              "          const element = document.querySelector('#df-4429a17b-31b2-42ff-901f-20ede18ea9d2');\n",
              "          const dataTable =\n",
              "            await google.colab.kernel.invokeFunction('convertToInteractive',\n",
              "                                                     [key], {});\n",
              "          if (!dataTable) return;\n",
              "\n",
              "          const docLinkHtml = 'Like what you see? Visit the ' +\n",
              "            '<a target=\"_blank\" href=https://colab.research.google.com/notebooks/data_table.ipynb>data table notebook</a>'\n",
              "            + ' to learn more about interactive tables.';\n",
              "          element.innerHTML = '';\n",
              "          dataTable['output_type'] = 'display_data';\n",
              "          await google.colab.output.renderOutput(dataTable, element);\n",
              "          const docLink = document.createElement('div');\n",
              "          docLink.innerHTML = docLinkHtml;\n",
              "          element.appendChild(docLink);\n",
              "        }\n",
              "      </script>\n",
              "    </div>\n",
              "  </div>\n",
              "  "
            ]
          },
          "metadata": {},
          "execution_count": 342
        }
      ]
    },
    {
      "cell_type": "markdown",
      "source": [
        "\n",
        "*   Adjust name of columns\n",
        "*   Remove (vau) & (vc) from rows\n",
        "*   Create a column for Year & Month\n",
        "*   Feature engineering apply blanks monthly precipitation\n",
        "\n"
      ],
      "metadata": {
        "id": "-Yxl6y6zOYFP"
      }
    },
    {
      "cell_type": "code",
      "source": [
        "BragaData = BragaData.rename(columns=BragaData.iloc[0])\n",
        "BragaData.drop([0], axis=0, inplace=True)\n",
        "BragaData.rename(columns={ BragaData.columns[0]: \"DateMonitoring\" }, inplace = True)\n",
        "#rename columns"
      ],
      "metadata": {
        "id": "CkfviCOgRnKh"
      },
      "execution_count": null,
      "outputs": []
    },
    {
      "cell_type": "code",
      "source": [
        "BragaData['Precipitação mensal (mm)'] = BragaData['Precipitação mensal (mm)'].replace('-', np.nan)\n",
        "BragaData['Precipitação diária (mm)'] = BragaData['Precipitação diária (mm)'].replace('-', np.nan)\n",
        "BragaData['Velocidade do vento média diária (m/s)'] = BragaData['Velocidade do vento média diária (m/s)'].replace('-', np.nan)\n",
        "BragaData['Precipitação mensal (mm)'].isnull()\n",
        "#transform - in Null values to perform fill method"
      ],
      "metadata": {
        "colab": {
          "base_uri": "https://localhost:8080/"
        },
        "id": "9x0DthyyV3Lb",
        "outputId": "05de6691-dc08-40fa-e77b-89df1514945e"
      },
      "execution_count": null,
      "outputs": [
        {
          "output_type": "execute_result",
          "data": {
            "text/plain": [
              "1       False\n",
              "2        True\n",
              "3        True\n",
              "4        True\n",
              "5        True\n",
              "        ...  \n",
              "1791     True\n",
              "1792     True\n",
              "1793     True\n",
              "1794     True\n",
              "1795     True\n",
              "Name: Precipitação mensal (mm), Length: 1795, dtype: bool"
            ]
          },
          "metadata": {},
          "execution_count": 344
        }
      ]
    },
    {
      "cell_type": "code",
      "source": [
        "BragaData['Precipitação mensal (mm)'] = BragaData['Precipitação mensal (mm)'].fillna(method='ffill')\n",
        "BragaData['Precipitação diária (mm)'] = BragaData['Precipitação diária (mm)'].fillna(method='ffill')\n",
        "BragaData['Velocidade do vento média diária (m/s)'] = BragaData['Velocidade do vento média diária (m/s)'].fillna(method='ffill')\n",
        "#apply fill method in NaN values"
      ],
      "metadata": {
        "id": "H2zIwOGHU2WA"
      },
      "execution_count": null,
      "outputs": []
    },
    {
      "cell_type": "code",
      "source": [
        "BragaData['Precipitação mensal (mm)'] = BragaData['Precipitação mensal (mm)'].str.split().str[-1]\n",
        "BragaData['Precipitação diária (mm)'] = BragaData['Precipitação diária (mm)'].str.split().str[-1]\n",
        "#remove string characters "
      ],
      "metadata": {
        "id": "TY1Yv6JRXHQ1"
      },
      "execution_count": null,
      "outputs": []
    },
    {
      "cell_type": "code",
      "source": [
        "BragaData.dtypes"
      ],
      "metadata": {
        "colab": {
          "base_uri": "https://localhost:8080/"
        },
        "id": "ZB6F_CLHXQTf",
        "outputId": "60672308-c718-4f1e-9f7a-9062a190d680"
      },
      "execution_count": null,
      "outputs": [
        {
          "output_type": "execute_result",
          "data": {
            "text/plain": [
              "DateMonitoring                            object\n",
              "Precipitação diária (mm)                  object\n",
              "Precipitação mensal (mm)                  object\n",
              "Velocidade do vento média diária (m/s)    object\n",
              "dtype: object"
            ]
          },
          "metadata": {},
          "execution_count": 347
        }
      ]
    },
    {
      "cell_type": "code",
      "source": [
        "BragaData['Precipitação mensal (mm)'] = pd.to_numeric(BragaData['Precipitação mensal (mm)'])\n",
        "BragaData['Precipitação diária (mm)'] = pd.to_numeric(BragaData['Precipitação diária (mm)'])\n",
        "BragaData['Velocidade do vento média diária (m/s)'] = pd.to_numeric(BragaData['Velocidade do vento média diária (m/s)'])\n",
        "#transform string to float"
      ],
      "metadata": {
        "id": "ln6sgb1YYeYP"
      },
      "execution_count": null,
      "outputs": []
    },
    {
      "cell_type": "code",
      "source": [
        "BragaData['DateMonitoring']  = pd.to_datetime(BragaData['DateMonitoring'], format='%d/%m/%Y %H:%M')\n",
        "BragaData['month'] = pd.DatetimeIndex(BragaData['DateMonitoring']).month\n",
        "BragaData['year'] = pd.DatetimeIndex(BragaData['DateMonitoring']).year\n",
        "#transform data and retrieve month and year to new columns"
      ],
      "metadata": {
        "id": "IOTjz8KKZnJ_"
      },
      "execution_count": null,
      "outputs": []
    },
    {
      "cell_type": "code",
      "source": [
        "BragaData.rename(columns={ BragaData.columns[2]: \"Sum_Monthly_Rain(mm)\" }, inplace = True)\n",
        "BragaData.rename(columns={ BragaData.columns[1]: \"Daily_Rain(mm)\" }, inplace = True)\n",
        "BragaData.rename(columns={ BragaData.columns[3]: \"Avr_Wind_Speed(ms)\" }, inplace = True)\n",
        "#this method only works with index"
      ],
      "metadata": {
        "id": "PdAL9_4QbR5-"
      },
      "execution_count": null,
      "outputs": []
    },
    {
      "cell_type": "markdown",
      "source": [
        "\n",
        "\n",
        "1.   Chart Month Average Rain (avr vs. month)\n",
        "2.   Chart Daily Rain vs. Wind Daily (corr)\n",
        "1.   Chart Daily Rain vs. Month\n",
        "2.   BoxPlot Daily Rain vs. Month\n",
        "\n"
      ],
      "metadata": {
        "id": "vyYaR11I-4l5"
      }
    },
    {
      "cell_type": "code",
      "source": [
        "BragaData.plot(x='Avr_Wind_Speed(ms)', y='Daily_Rain(mm)', kind='scatter')\t"
      ],
      "metadata": {
        "colab": {
          "base_uri": "https://localhost:8080/",
          "height": 297
        },
        "id": "Z1jRAi5tpK2v",
        "outputId": "d2167d68-baae-46b5-c22e-4fdeb5d1bf7c"
      },
      "execution_count": null,
      "outputs": [
        {
          "output_type": "execute_result",
          "data": {
            "text/plain": [
              "<matplotlib.axes._subplots.AxesSubplot at 0x7fafeaae75d0>"
            ]
          },
          "metadata": {},
          "execution_count": 351
        },
        {
          "output_type": "display_data",
          "data": {
            "text/plain": [
              "<Figure size 432x288 with 1 Axes>"
            ],
            "image/png": "[encoded data removed]"
          },
          "metadata": {
            "needs_background": "light"
          }
        }
      ]
    },
    {
      "cell_type": "markdown",
      "source": [
        "need to remove 2011 / 2012 / 2013 from database\n"
      ],
      "metadata": {
        "id": "dcXHLHKU8rmW"
      }
    },
    {
      "cell_type": "markdown",
      "source": [
        "They Don't Exist, Python assumes that in a X coordinates"
      ],
      "metadata": {
        "id": "WamgkF9x9ADS"
      }
    },
    {
      "cell_type": "code",
      "source": [
        "import numpy as np\n",
        "import scipy.stats\n",
        "scipy.stats.pearsonr(BragaData['Daily_Rain(mm)'], BragaData['Avr_Wind_Speed(ms)'])  # Pearson's r\n",
        "scipy.stats.spearmanr(BragaData['Daily_Rain(mm)'], BragaData['Avr_Wind_Speed(ms)']) # Spearman's rho\n",
        "scipy.stats.kendalltau(BragaData['Daily_Rain(mm)'], BragaData['Avr_Wind_Speed(ms)']) # Kendall's tau\n",
        "#there is no correlation whatsoEver"
      ],
      "metadata": {
        "colab": {
          "base_uri": "https://localhost:8080/"
        },
        "id": "XharjDCEBQoo",
        "outputId": "3aff036c-4b67-4aa0-d54e-dab19d1cc0d6"
      },
      "execution_count": null,
      "outputs": [
        {
          "output_type": "execute_result",
          "data": {
            "text/plain": [
              "KendalltauResult(correlation=0.09642886681968406, pvalue=5.866674923272917e-08)"
            ]
          },
          "metadata": {},
          "execution_count": 352
        }
      ]
    },
    {
      "cell_type": "markdown",
      "source": [
        "Eitherway will continue just to apply flask app"
      ],
      "metadata": {
        "id": "GEsSc91fG4zx"
      }
    },
    {
      "cell_type": "code",
      "source": [
        "BragaData.head()"
      ],
      "metadata": {
        "colab": {
          "base_uri": "https://localhost:8080/",
          "height": 206
        },
        "id": "qy4jgD2NH8iB",
        "outputId": "0dfed43c-a81d-4d5f-c98b-6cb01d131fee"
      },
      "execution_count": null,
      "outputs": [
        {
          "output_type": "execute_result",
          "data": {
            "text/plain": [
              "       DateMonitoring  Daily_Rain(mm)  Sum_Monthly_Rain(mm)  \\\n",
              "1 2009-11-01 09:00:00             0.0                   0.7   \n",
              "2 2009-11-02 09:00:00             0.1                   0.7   \n",
              "3 2009-11-03 09:00:00             0.0                   0.7   \n",
              "4 2009-11-04 09:00:00             0.0                   0.7   \n",
              "5 2009-11-05 09:00:00             0.0                   0.7   \n",
              "\n",
              "   Avr_Wind_Speed(ms)  month  year  \n",
              "1                 0.4     11  2009  \n",
              "2                 0.7     11  2009  \n",
              "3                 0.4     11  2009  \n",
              "4                 1.0     11  2009  \n",
              "5                 1.3     11  2009  "
            ],
            "text/html": [
              "\n",
              "  <div id=\"df-2c1607d8-d100-4c85-b3be-6c7e15d3593e\">\n",
              "    <div class=\"colab-df-container\">\n",
              "      <div>\n",
              "<style scoped>\n",
              "    .dataframe tbody tr th:only-of-type {\n",
              "        vertical-align: middle;\n",
              "    }\n",
              "\n",
              "    .dataframe tbody tr th {\n",
              "        vertical-align: top;\n",
              "    }\n",
              "\n",
              "    .dataframe thead th {\n",
              "        text-align: right;\n",
              "    }\n",
              "</style>\n",
              "<table border=\"1\" class=\"dataframe\">\n",
              "  <thead>\n",
              "    <tr style=\"text-align: right;\">\n",
              "      <th></th>\n",
              "      <th>DateMonitoring</th>\n",
              "      <th>Daily_Rain(mm)</th>\n",
              "      <th>Sum_Monthly_Rain(mm)</th>\n",
              "      <th>Avr_Wind_Speed(ms)</th>\n",
              "      <th>month</th>\n",
              "      <th>year</th>\n",
              "    </tr>\n",
              "  </thead>\n",
              "  <tbody>\n",
              "    <tr>\n",
              "      <th>1</th>\n",
              "      <td>2009-11-01 09:00:00</td>\n",
              "      <td>0.0</td>\n",
              "      <td>0.7</td>\n",
              "      <td>0.4</td>\n",
              "      <td>11</td>\n",
              "      <td>2009</td>\n",
              "    </tr>\n",
              "    <tr>\n",
              "      <th>2</th>\n",
              "      <td>2009-11-02 09:00:00</td>\n",
              "      <td>0.1</td>\n",
              "      <td>0.7</td>\n",
              "      <td>0.7</td>\n",
              "      <td>11</td>\n",
              "      <td>2009</td>\n",
              "    </tr>\n",
              "    <tr>\n",
              "      <th>3</th>\n",
              "      <td>2009-11-03 09:00:00</td>\n",
              "      <td>0.0</td>\n",
              "      <td>0.7</td>\n",
              "      <td>0.4</td>\n",
              "      <td>11</td>\n",
              "      <td>2009</td>\n",
              "    </tr>\n",
              "    <tr>\n",
              "      <th>4</th>\n",
              "      <td>2009-11-04 09:00:00</td>\n",
              "      <td>0.0</td>\n",
              "      <td>0.7</td>\n",
              "      <td>1.0</td>\n",
              "      <td>11</td>\n",
              "      <td>2009</td>\n",
              "    </tr>\n",
              "    <tr>\n",
              "      <th>5</th>\n",
              "      <td>2009-11-05 09:00:00</td>\n",
              "      <td>0.0</td>\n",
              "      <td>0.7</td>\n",
              "      <td>1.3</td>\n",
              "      <td>11</td>\n",
              "      <td>2009</td>\n",
              "    </tr>\n",
              "  </tbody>\n",
              "</table>\n",
              "</div>\n",
              "      <button class=\"colab-df-convert\" onclick=\"convertToInteractive('df-2c1607d8-d100-4c85-b3be-6c7e15d3593e')\"\n",
              "              title=\"Convert this dataframe to an interactive table.\"\n",
              "              style=\"display:none;\">\n",
              "        \n",
              "  <svg xmlns=\"http://www.w3.org/2000/svg\" height=\"24px\"viewBox=\"0 0 24 24\"\n",
              "       width=\"24px\">\n",
              "    <path d=\"M0 0h24v24H0V0z\" fill=\"none\"/>\n",
              "    <path d=\"M18.56 5.44l.94 2.06.94-2.06 2.06-.94-2.06-.94-.94-2.06-.94 2.06-2.06.94zm-11 1L8.5 8.5l.94-2.06 2.06-.94-2.06-.94L8.5 2.5l-.94 2.06-2.06.94zm10 10l.94 2.06.94-2.06 2.06-.94-2.06-.94-.94-2.06-.94 2.06-2.06.94z\"/><path d=\"M17.41 7.96l-1.37-1.37c-.4-.4-.92-.59-1.43-.59-.52 0-1.04.2-1.43.59L10.3 9.45l-7.72 7.72c-.78.78-.78 2.05 0 2.83L4 21.41c.39.39.9.59 1.41.59.51 0 1.02-.2 1.41-.59l7.78-7.78 2.81-2.81c.8-.78.8-2.07 0-2.86zM5.41 20L4 18.59l7.72-7.72 1.47 1.35L5.41 20z\"/>\n",
              "  </svg>\n",
              "      </button>\n",
              "      \n",
              "  <style>\n",
              "    .colab-df-container {\n",
              "      display:flex;\n",
              "      flex-wrap:wrap;\n",
              "      gap: 12px;\n",
              "    }\n",
              "\n",
              "    .colab-df-convert {\n",
              "      background-color: #E8F0FE;\n",
              "      border: none;\n",
              "      border-radius: 50%;\n",
              "      cursor: pointer;\n",
              "      display: none;\n",
              "      fill: #1967D2;\n",
              "      height: 32px;\n",
              "      padding: 0 0 0 0;\n",
              "      width: 32px;\n",
              "    }\n",
              "\n",
              "    .colab-df-convert:hover {\n",
              "      background-color: #E2EBFA;\n",
              "      box-shadow: 0px 1px 2px rgba(60, 64, 67, 0.3), 0px 1px 3px 1px rgba(60, 64, 67, 0.15);\n",
              "      fill: #174EA6;\n",
              "    }\n",
              "\n",
              "    [theme=dark] .colab-df-convert {\n",
              "      background-color: #3B4455;\n",
              "      fill: #D2E3FC;\n",
              "    }\n",
              "\n",
              "    [theme=dark] .colab-df-convert:hover {\n",
              "      background-color: #434B5C;\n",
              "      box-shadow: 0px 1px 3px 1px rgba(0, 0, 0, 0.15);\n",
              "      filter: drop-shadow(0px 1px 2px rgba(0, 0, 0, 0.3));\n",
              "      fill: #FFFFFF;\n",
              "    }\n",
              "  </style>\n",
              "\n",
              "      <script>\n",
              "        const buttonEl =\n",
              "          document.querySelector('#df-2c1607d8-d100-4c85-b3be-6c7e15d3593e button.colab-df-convert');\n",
              "        buttonEl.style.display =\n",
              "          google.colab.kernel.accessAllowed ? 'block' : 'none';\n",
              "\n",
              "        async function convertToInteractive(key) {\n",
              "          const element = document.querySelector('#df-2c1607d8-d100-4c85-b3be-6c7e15d3593e');\n",
              "          const dataTable =\n",
              "            await google.colab.kernel.invokeFunction('convertToInteractive',\n",
              "                                                     [key], {});\n",
              "          if (!dataTable) return;\n",
              "\n",
              "          const docLinkHtml = 'Like what you see? Visit the ' +\n",
              "            '<a target=\"_blank\" href=https://colab.research.google.com/notebooks/data_table.ipynb>data table notebook</a>'\n",
              "            + ' to learn more about interactive tables.';\n",
              "          element.innerHTML = '';\n",
              "          dataTable['output_type'] = 'display_data';\n",
              "          await google.colab.output.renderOutput(dataTable, element);\n",
              "          const docLink = document.createElement('div');\n",
              "          docLink.innerHTML = docLinkHtml;\n",
              "          element.appendChild(docLink);\n",
              "        }\n",
              "      </script>\n",
              "    </div>\n",
              "  </div>\n",
              "  "
            ]
          },
          "metadata": {},
          "execution_count": 353
        }
      ]
    },
    {
      "cell_type": "code",
      "source": [
        "BragaTrain = BragaData.drop(['DateMonitoring', 'year'], axis=1)\n",
        "#remove data in which i'll not apply in training"
      ],
      "metadata": {
        "id": "9qh7MqMY8vrl"
      },
      "execution_count": null,
      "outputs": []
    },
    {
      "cell_type": "code",
      "source": [
        "BragaTrain.boxplot(by ='month', column =['Sum_Monthly_Rain(mm)'], grid = False)"
      ],
      "metadata": {
        "colab": {
          "base_uri": "https://localhost:8080/",
          "height": 318
        },
        "id": "-P5JUOqQI_jF",
        "outputId": "1194db78-07c6-48fc-8e59-29a86bfd232e"
      },
      "execution_count": null,
      "outputs": [
        {
          "output_type": "execute_result",
          "data": {
            "text/plain": [
              "<matplotlib.axes._subplots.AxesSubplot at 0x7fafeaac5dd0>"
            ]
          },
          "metadata": {},
          "execution_count": 355
        },
        {
          "output_type": "display_data",
          "data": {
            "text/plain": [
              "<Figure size 432x288 with 1 Axes>"
            ],
            "image/png": "[encoded data removed]"
          },
          "metadata": {
            "needs_background": "light"
          }
        }
      ]
    },
    {
      "cell_type": "code",
      "source": [
        "BragaTrain.boxplot(column =['Daily_Rain(mm)'], grid = True)"
      ],
      "metadata": {
        "colab": {
          "base_uri": "https://localhost:8080/",
          "height": 283
        },
        "id": "eSYV6eq2IdG-",
        "outputId": "e49a0cad-bc1f-412e-d3b0-f254d810cce4"
      },
      "execution_count": null,
      "outputs": [
        {
          "output_type": "execute_result",
          "data": {
            "text/plain": [
              "<matplotlib.axes._subplots.AxesSubplot at 0x7fafea98c450>"
            ]
          },
          "metadata": {},
          "execution_count": 356
        },
        {
          "output_type": "display_data",
          "data": {
            "text/plain": [
              "<Figure size 432x288 with 1 Axes>"
            ],
            "image/png": "[encoded data removed]"
          },
          "metadata": {
            "needs_background": "light"
          }
        }
      ]
    },
    {
      "cell_type": "code",
      "source": [
        "BragaTrain.loc[BragaTrain['Daily_Rain(mm)'] <= 100.0, 'RAIN'] = 2  \n",
        "BragaTrain.loc[BragaTrain['Daily_Rain(mm)'] <= 20.0, 'RAIN'] = 1\n",
        "BragaTrain.loc[BragaTrain['Daily_Rain(mm)'] == 0.0, 'RAIN'] = 0 \n",
        "#feature engineering - feature scaling => Wrongly applied"
      ],
      "metadata": {
        "id": "6MTurvrYJ4N7"
      },
      "execution_count": null,
      "outputs": []
    },
    {
      "cell_type": "code",
      "source": [
        "BragaTrain.boxplot(column =['Avr_Wind_Speed(ms)'], grid = True)"
      ],
      "metadata": {
        "colab": {
          "base_uri": "https://localhost:8080/",
          "height": 286
        },
        "id": "rFGpKhMCKHFf",
        "outputId": "7c1dc4bc-24c6-4b92-ed10-57a105cb6078"
      },
      "execution_count": null,
      "outputs": [
        {
          "output_type": "execute_result",
          "data": {
            "text/plain": [
              "<matplotlib.axes._subplots.AxesSubplot at 0x7fafea8f5cd0>"
            ]
          },
          "metadata": {},
          "execution_count": 358
        },
        {
          "output_type": "display_data",
          "data": {
            "text/plain": [
              "<Figure size 432x288 with 1 Axes>"
            ],
            "image/png": "[encoded data removed]"
          },
          "metadata": {
            "needs_background": "light"
          }
        }
      ]
    },
    {
      "cell_type": "code",
      "source": [
        "BragaTrain.loc[BragaTrain['Avr_Wind_Speed(ms)'] <= 5.0, 'WIND'] = 2   \n",
        "BragaTrain.loc[BragaTrain['Avr_Wind_Speed(ms)'] <= 2.0, 'WIND'] = 1\n",
        "BragaTrain.loc[BragaTrain['Avr_Wind_Speed(ms)'] == 0.0, 'WIND'] = 0"
      ],
      "metadata": {
        "id": "v5AzdpuOLPUo"
      },
      "execution_count": null,
      "outputs": []
    },
    {
      "cell_type": "code",
      "source": [
        "BragaTrain.boxplot(column =['Sum_Monthly_Rain(mm)'], grid = True)"
      ],
      "metadata": {
        "colab": {
          "base_uri": "https://localhost:8080/",
          "height": 283
        },
        "id": "kKlU3DrcM-Mh",
        "outputId": "4de18e6e-fb2f-46bf-fdae-bf313632b5d7"
      },
      "execution_count": null,
      "outputs": [
        {
          "output_type": "execute_result",
          "data": {
            "text/plain": [
              "<matplotlib.axes._subplots.AxesSubplot at 0x7fafea871550>"
            ]
          },
          "metadata": {},
          "execution_count": 360
        },
        {
          "output_type": "display_data",
          "data": {
            "text/plain": [
              "<Figure size 432x288 with 1 Axes>"
            ],
            "image/png": "[encoded data removed]"
          },
          "metadata": {
            "needs_background": "light"
          }
        }
      ]
    },
    {
      "cell_type": "code",
      "source": [
        "BragaTrain.loc[BragaTrain['Sum_Monthly_Rain(mm)'] <= 400.0, 'MONTH_RAIN'] = 2  \n",
        "BragaTrain.loc[BragaTrain['Sum_Monthly_Rain(mm)'] <= 50.0, 'MONTH_RAIN'] = 1\n",
        "BragaTrain.loc[BragaTrain['Sum_Monthly_Rain(mm)'] <= 1.0, 'MONTH_RAIN'] = 0"
      ],
      "metadata": {
        "id": "EsJyB_nlMx9H"
      },
      "execution_count": null,
      "outputs": []
    },
    {
      "cell_type": "code",
      "source": [
        "BragaTrain = BragaTrain.drop(\"Daily_Rain(mm)\", axis=1)\n",
        "BragaTrain = BragaTrain.drop(\"Sum_Monthly_Rain(mm)\", axis=1)\n",
        "BragaTrain = BragaTrain.drop(\"Avr_Wind_Speed(ms)\", axis=1)"
      ],
      "metadata": {
        "id": "r6zxQ7aaNfsQ"
      },
      "execution_count": null,
      "outputs": []
    },
    {
      "cell_type": "code",
      "source": [
        "BragaTrain"
      ],
      "metadata": {
        "colab": {
          "base_uri": "https://localhost:8080/",
          "height": 424
        },
        "id": "7Xiq6DsaN7DU",
        "outputId": "2d90c220-2b58-4519-e914-e0cc5f0ea701"
      },
      "execution_count": null,
      "outputs": [
        {
          "output_type": "execute_result",
          "data": {
            "text/plain": [
              "      month  RAIN  WIND  MONTH_RAIN\n",
              "1        11   0.0   1.0         0.0\n",
              "2        11   1.0   1.0         0.0\n",
              "3        11   0.0   1.0         0.0\n",
              "4        11   0.0   1.0         0.0\n",
              "5        11   0.0   1.0         0.0\n",
              "...     ...   ...   ...         ...\n",
              "1791     10   1.0   1.0         2.0\n",
              "1792     10   0.0   1.0         2.0\n",
              "1793     10   0.0   1.0         2.0\n",
              "1794     10   0.0   1.0         2.0\n",
              "1795     10   0.0   1.0         2.0\n",
              "\n",
              "[1795 rows x 4 columns]"
            ],
            "text/html": [
              "\n",
              "  <div id=\"df-2d02876a-1b6e-41d3-ae47-dc350b482189\">\n",
              "    <div class=\"colab-df-container\">\n",
              "      <div>\n",
              "<style scoped>\n",
              "    .dataframe tbody tr th:only-of-type {\n",
              "        vertical-align: middle;\n",
              "    }\n",
              "\n",
              "    .dataframe tbody tr th {\n",
              "        vertical-align: top;\n",
              "    }\n",
              "\n",
              "    .dataframe thead th {\n",
              "        text-align: right;\n",
              "    }\n",
              "</style>\n",
              "<table border=\"1\" class=\"dataframe\">\n",
              "  <thead>\n",
              "    <tr style=\"text-align: right;\">\n",
              "      <th></th>\n",
              "      <th>month</th>\n",
              "      <th>RAIN</th>\n",
              "      <th>WIND</th>\n",
              "      <th>MONTH_RAIN</th>\n",
              "    </tr>\n",
              "  </thead>\n",
              "  <tbody>\n",
              "    <tr>\n",
              "      <th>1</th>\n",
              "      <td>11</td>\n",
              "      <td>0.0</td>\n",
              "      <td>1.0</td>\n",
              "      <td>0.0</td>\n",
              "    </tr>\n",
              "    <tr>\n",
              "      <th>2</th>\n",
              "      <td>11</td>\n",
              "      <td>1.0</td>\n",
              "      <td>1.0</td>\n",
              "      <td>0.0</td>\n",
              "    </tr>\n",
              "    <tr>\n",
              "      <th>3</th>\n",
              "      <td>11</td>\n",
              "      <td>0.0</td>\n",
              "      <td>1.0</td>\n",
              "      <td>0.0</td>\n",
              "    </tr>\n",
              "    <tr>\n",
              "      <th>4</th>\n",
              "      <td>11</td>\n",
              "      <td>0.0</td>\n",
              "      <td>1.0</td>\n",
              "      <td>0.0</td>\n",
              "    </tr>\n",
              "    <tr>\n",
              "      <th>5</th>\n",
              "      <td>11</td>\n",
              "      <td>0.0</td>\n",
              "      <td>1.0</td>\n",
              "      <td>0.0</td>\n",
              "    </tr>\n",
              "    <tr>\n",
              "      <th>...</th>\n",
              "      <td>...</td>\n",
              "      <td>...</td>\n",
              "      <td>...</td>\n",
              "      <td>...</td>\n",
              "    </tr>\n",
              "    <tr>\n",
              "      <th>1791</th>\n",
              "      <td>10</td>\n",
              "      <td>1.0</td>\n",
              "      <td>1.0</td>\n",
              "      <td>2.0</td>\n",
              "    </tr>\n",
              "    <tr>\n",
              "      <th>1792</th>\n",
              "      <td>10</td>\n",
              "      <td>0.0</td>\n",
              "      <td>1.0</td>\n",
              "      <td>2.0</td>\n",
              "    </tr>\n",
              "    <tr>\n",
              "      <th>1793</th>\n",
              "      <td>10</td>\n",
              "      <td>0.0</td>\n",
              "      <td>1.0</td>\n",
              "      <td>2.0</td>\n",
              "    </tr>\n",
              "    <tr>\n",
              "      <th>1794</th>\n",
              "      <td>10</td>\n",
              "      <td>0.0</td>\n",
              "      <td>1.0</td>\n",
              "      <td>2.0</td>\n",
              "    </tr>\n",
              "    <tr>\n",
              "      <th>1795</th>\n",
              "      <td>10</td>\n",
              "      <td>0.0</td>\n",
              "      <td>1.0</td>\n",
              "      <td>2.0</td>\n",
              "    </tr>\n",
              "  </tbody>\n",
              "</table>\n",
              "<p>1795 rows × 4 columns</p>\n",
              "</div>\n",
              "      <button class=\"colab-df-convert\" onclick=\"convertToInteractive('df-2d02876a-1b6e-41d3-ae47-dc350b482189')\"\n",
              "              title=\"Convert this dataframe to an interactive table.\"\n",
              "              style=\"display:none;\">\n",
              "        \n",
              "  <svg xmlns=\"http://www.w3.org/2000/svg\" height=\"24px\"viewBox=\"0 0 24 24\"\n",
              "       width=\"24px\">\n",
              "    <path d=\"M0 0h24v24H0V0z\" fill=\"none\"/>\n",
              "    <path d=\"M18.56 5.44l.94 2.06.94-2.06 2.06-.94-2.06-.94-.94-2.06-.94 2.06-2.06.94zm-11 1L8.5 8.5l.94-2.06 2.06-.94-2.06-.94L8.5 2.5l-.94 2.06-2.06.94zm10 10l.94 2.06.94-2.06 2.06-.94-2.06-.94-.94-2.06-.94 2.06-2.06.94z\"/><path d=\"M17.41 7.96l-1.37-1.37c-.4-.4-.92-.59-1.43-.59-.52 0-1.04.2-1.43.59L10.3 9.45l-7.72 7.72c-.78.78-.78 2.05 0 2.83L4 21.41c.39.39.9.59 1.41.59.51 0 1.02-.2 1.41-.59l7.78-7.78 2.81-2.81c.8-.78.8-2.07 0-2.86zM5.41 20L4 18.59l7.72-7.72 1.47 1.35L5.41 20z\"/>\n",
              "  </svg>\n",
              "      </button>\n",
              "      \n",
              "  <style>\n",
              "    .colab-df-container {\n",
              "      display:flex;\n",
              "      flex-wrap:wrap;\n",
              "      gap: 12px;\n",
              "    }\n",
              "\n",
              "    .colab-df-convert {\n",
              "      background-color: #E8F0FE;\n",
              "      border: none;\n",
              "      border-radius: 50%;\n",
              "      cursor: pointer;\n",
              "      display: none;\n",
              "      fill: #1967D2;\n",
              "      height: 32px;\n",
              "      padding: 0 0 0 0;\n",
              "      width: 32px;\n",
              "    }\n",
              "\n",
              "    .colab-df-convert:hover {\n",
              "      background-color: #E2EBFA;\n",
              "      box-shadow: 0px 1px 2px rgba(60, 64, 67, 0.3), 0px 1px 3px 1px rgba(60, 64, 67, 0.15);\n",
              "      fill: #174EA6;\n",
              "    }\n",
              "\n",
              "    [theme=dark] .colab-df-convert {\n",
              "      background-color: #3B4455;\n",
              "      fill: #D2E3FC;\n",
              "    }\n",
              "\n",
              "    [theme=dark] .colab-df-convert:hover {\n",
              "      background-color: #434B5C;\n",
              "      box-shadow: 0px 1px 3px 1px rgba(0, 0, 0, 0.15);\n",
              "      filter: drop-shadow(0px 1px 2px rgba(0, 0, 0, 0.3));\n",
              "      fill: #FFFFFF;\n",
              "    }\n",
              "  </style>\n",
              "\n",
              "      <script>\n",
              "        const buttonEl =\n",
              "          document.querySelector('#df-2d02876a-1b6e-41d3-ae47-dc350b482189 button.colab-df-convert');\n",
              "        buttonEl.style.display =\n",
              "          google.colab.kernel.accessAllowed ? 'block' : 'none';\n",
              "\n",
              "        async function convertToInteractive(key) {\n",
              "          const element = document.querySelector('#df-2d02876a-1b6e-41d3-ae47-dc350b482189');\n",
              "          const dataTable =\n",
              "            await google.colab.kernel.invokeFunction('convertToInteractive',\n",
              "                                                     [key], {});\n",
              "          if (!dataTable) return;\n",
              "\n",
              "          const docLinkHtml = 'Like what you see? Visit the ' +\n",
              "            '<a target=\"_blank\" href=https://colab.research.google.com/notebooks/data_table.ipynb>data table notebook</a>'\n",
              "            + ' to learn more about interactive tables.';\n",
              "          element.innerHTML = '';\n",
              "          dataTable['output_type'] = 'display_data';\n",
              "          await google.colab.output.renderOutput(dataTable, element);\n",
              "          const docLink = document.createElement('div');\n",
              "          docLink.innerHTML = docLinkHtml;\n",
              "          element.appendChild(docLink);\n",
              "        }\n",
              "      </script>\n",
              "    </div>\n",
              "  </div>\n",
              "  "
            ]
          },
          "metadata": {},
          "execution_count": 363
        }
      ]
    },
    {
      "cell_type": "code",
      "source": [
        "x_features = BragaTrain.drop(\"RAIN\", axis=1)\n",
        "y_target = BragaTrain[\"RAIN\"]"
      ],
      "metadata": {
        "id": "ABJWTHH5MuMk"
      },
      "execution_count": null,
      "outputs": []
    },
    {
      "cell_type": "code",
      "source": [
        "from sklearn.model_selection import train_test_split\n",
        "x_train, x_test, y_train, y_test = train_test_split(x_features, y_target, \n",
        "                                                    test_size=0.4, \n",
        "                                                    random_state=1)\n"
      ],
      "metadata": {
        "id": "j0gNb-QlMhOR"
      },
      "execution_count": null,
      "outputs": []
    },
    {
      "cell_type": "code",
      "source": [
        "# training the model\n",
        "from sklearn.neighbors import KNeighborsClassifier\n",
        "knn = KNeighborsClassifier(n_neighbors=20)\n",
        "knn.fit(x_train, y_train)"
      ],
      "metadata": {
        "colab": {
          "base_uri": "https://localhost:8080/"
        },
        "id": "BzlYXedCMhLQ",
        "outputId": "a63a3b74-5a87-440b-c2e2-cac70d1decbf"
      },
      "execution_count": null,
      "outputs": [
        {
          "output_type": "execute_result",
          "data": {
            "text/plain": [
              "KNeighborsClassifier(n_neighbors=20)"
            ]
          },
          "metadata": {},
          "execution_count": 366
        }
      ]
    },
    {
      "cell_type": "code",
      "source": [
        "pred = knn.predict(x_test)\n",
        "from sklearn.metrics import accuracy_score\n",
        "accuracy_score(pred,y_test)"
      ],
      "metadata": {
        "colab": {
          "base_uri": "https://localhost:8080/"
        },
        "id": "LQHhtFI0MhHj",
        "outputId": "40b7cdd4-0777-4d99-d949-b494ea72b666"
      },
      "execution_count": null,
      "outputs": [
        {
          "output_type": "execute_result",
          "data": {
            "text/plain": [
              "0.6016713091922006"
            ]
          },
          "metadata": {},
          "execution_count": 367
        }
      ]
    },
    {
      "cell_type": "code",
      "source": [
        "#predict\n",
        "features = np.array([[1, 0, 1]])\n",
        "prediction = knn.predict(features)       "
      ],
      "metadata": {
        "id": "kG_MQcSpRAIS"
      },
      "execution_count": null,
      "outputs": []
    },
    {
      "cell_type": "markdown",
      "source": [
        "Low Score but model to weak and database weak as well \n",
        "Reminder: Applying just a Flask Framework is the objective"
      ],
      "metadata": {
        "id": "Vd4L1YeHQfII"
      }
    },
    {
      "cell_type": "markdown",
      "source": [
        "# FLASK ACTIVITY"
      ],
      "metadata": {
        "id": "fJcTqMoBLrlz"
      }
    },
    {
      "cell_type": "code",
      "source": [
        "!pip install flask_ngrok\n",
        "!pip install pyngrok\n",
        "#install ngrok to create a local host granted by google colab"
      ],
      "metadata": {
        "id": "5liTeWfSyT5_",
        "colab": {
          "base_uri": "https://localhost:8080/"
        },
        "outputId": "5aa1ebc9-2ac6-4468-8197-7389d263eb34"
      },
      "execution_count": null,
      "outputs": [
        {
          "output_type": "stream",
          "name": "stdout",
          "text": [
            "Looking in indexes: https://pypi.org/simple, https://us-python.pkg.dev/colab-wheels/public/simple/\n",
            "Requirement already satisfied: flask_ngrok in /usr/local/lib/python3.7/dist-packages (0.0.25)\n",
            "Requirement already satisfied: requests in /usr/local/lib/python3.7/dist-packages (from flask_ngrok) (2.23.0)\n",
            "Requirement already satisfied: Flask>=0.8 in /usr/local/lib/python3.7/dist-packages (from flask_ngrok) (1.1.4)\n",
            "Requirement already satisfied: click<8.0,>=5.1 in /usr/local/lib/python3.7/dist-packages (from Flask>=0.8->flask_ngrok) (7.1.2)\n",
            "Requirement already satisfied: itsdangerous<2.0,>=0.24 in /usr/local/lib/python3.7/dist-packages (from Flask>=0.8->flask_ngrok) (1.1.0)\n",
            "Requirement already satisfied: Werkzeug<2.0,>=0.15 in /usr/local/lib/python3.7/dist-packages (from Flask>=0.8->flask_ngrok) (1.0.1)\n",
            "Requirement already satisfied: Jinja2<3.0,>=2.10.1 in /usr/local/lib/python3.7/dist-packages (from Flask>=0.8->flask_ngrok) (2.11.3)\n",
            "Requirement already satisfied: MarkupSafe>=0.23 in /usr/local/lib/python3.7/dist-packages (from Jinja2<3.0,>=2.10.1->Flask>=0.8->flask_ngrok) (2.0.1)\n",
            "Requirement already satisfied: idna<3,>=2.5 in /usr/local/lib/python3.7/dist-packages (from requests->flask_ngrok) (2.10)\n",
            "Requirement already satisfied: chardet<4,>=3.0.2 in /usr/local/lib/python3.7/dist-packages (from requests->flask_ngrok) (3.0.4)\n",
            "Requirement already satisfied: certifi>=2017.4.17 in /usr/local/lib/python3.7/dist-packages (from requests->flask_ngrok) (2022.9.24)\n",
            "Requirement already satisfied: urllib3!=1.25.0,!=1.25.1,<1.26,>=1.21.1 in /usr/local/lib/python3.7/dist-packages (from requests->flask_ngrok) (1.24.3)\n",
            "Looking in indexes: https://pypi.org/simple, https://us-python.pkg.dev/colab-wheels/public/simple/\n",
            "Requirement already satisfied: pyngrok in /usr/local/lib/python3.7/dist-packages (5.1.0)\n",
            "Requirement already satisfied: PyYAML in /usr/local/lib/python3.7/dist-packages (from pyngrok) (6.0)\n"
          ]
        }
      ]
    },
    {
      "cell_type": "code",
      "source": [
        "from flask_ngrok import run_with_ngrok\n",
        "from flask import Flask, render_template\n",
        "from flask import request\n",
        "import requests"
      ],
      "metadata": {
        "id": "jDgMzayeFx3-"
      },
      "execution_count": null,
      "outputs": []
    },
    {
      "cell_type": "code",
      "source": [
        "!ngrok authtoken 2I3WIGAPZ1tYeq29DVtlXgEIFhL_3uaFFBc85TiakwiuYGP3A\n",
        "#authentication ngrok - to garantee the path tunnel"
      ],
      "metadata": {
        "colab": {
          "base_uri": "https://localhost:8080/"
        },
        "id": "ymNuVVWzyKl6",
        "outputId": "3be05c67-47db-44ad-bba6-48d6dd2c8f8e"
      },
      "execution_count": null,
      "outputs": [
        {
          "output_type": "stream",
          "name": "stdout",
          "text": [
            "Authtoken saved to configuration file: /root/.ngrok2/ngrok.yml\n"
          ]
        }
      ]
    },
    {
      "cell_type": "code",
      "source": [
        "def correlation_function(choose_form):\n",
        "    predictor = np.reshape(choose_form, (1, 3))\n",
        "    prediction = knn.predict(predictor)\n",
        "    if prediction[0] == 1:\n",
        "        is3 = \"IT'S RAINING MATE!\"\n",
        "        return is3\n",
        "    else:\n",
        "        not3 = \"IT'S NOT RAINING - GO OUTSIDE!\"\n",
        "        return not3    "
      ],
      "metadata": {
        "id": "SmRFB_8x3lL-"
      },
      "execution_count": null,
      "outputs": []
    },
    {
      "cell_type": "code",
      "source": [
        "app = Flask(__name__, template_folder='/content/drive/MyDrive/Templates')\n",
        "form_data = []\n",
        "run_with_ngrok(app)  \n",
        "\n",
        "#@app.route('/', methods=['GET', 'POST'])\n",
        "#if request.method == \"POST\" or 'GET': #this can be used everytime there is a communication method\n",
        "# data = request.form.get(\"number1\") #request.form can be used as well\n",
        "\n",
        "@app.route('/')\n",
        "def my_form():\n",
        "    return render_template('first.html', entry = \"LOOK HERE FOR RESULTS\")\n",
        "\n",
        "@app.route('/', methods=['POST'])\n",
        "def my_form_post():\n",
        "        form_data.append(float(request.form.get(\"number1\")))\n",
        "        form_data.append(float(request.form.get(\"number2\")))\n",
        "        form_data.append(float(request.form.get(\"number3\")))\n",
        "        return render_template ('first.html', entry = correlation_function(form_data))\n",
        "\n",
        "#app.debug = True\n",
        "app.run()\n"
      ],
      "metadata": {
        "colab": {
          "base_uri": "https://localhost:8080/"
        },
        "id": "Gp7P8XnMu4fx",
        "outputId": "dd7c3f69-b586-43ff-c1e0-3b313f5ce0dd"
      },
      "execution_count": null,
      "outputs": [
        {
          "output_type": "error",
          "ename": "NameError",
          "evalue": "ignored",
          "traceback": [
            "\u001b[0;31m---------------------------------------------------------------------------\u001b[0m",
            "\u001b[0;31mNameError\u001b[0m                                 Traceback (most recent call last)",
            "\u001b[0;32m<ipython-input-1-be94e3ab25a2>\u001b[0m in \u001b[0;36m<cell line: 1>\u001b[0;34m()\u001b[0m\n\u001b[0;32m----> 1\u001b[0;31m \u001b[0mapp\u001b[0m \u001b[0;34m=\u001b[0m \u001b[0mFlask\u001b[0m\u001b[0;34m(\u001b[0m\u001b[0m__name__\u001b[0m\u001b[0;34m,\u001b[0m \u001b[0mtemplate_folder\u001b[0m\u001b[0;34m=\u001b[0m\u001b[0;34m'/content/drive/MyDrive/Templates'\u001b[0m\u001b[0;34m)\u001b[0m\u001b[0;34m\u001b[0m\u001b[0;34m\u001b[0m\u001b[0m\n\u001b[0m\u001b[1;32m      2\u001b[0m \u001b[0mform_data\u001b[0m \u001b[0;34m=\u001b[0m \u001b[0;34m[\u001b[0m\u001b[0;34m]\u001b[0m\u001b[0;34m\u001b[0m\u001b[0;34m\u001b[0m\u001b[0m\n\u001b[1;32m      3\u001b[0m \u001b[0mrun_with_ngrok\u001b[0m\u001b[0;34m(\u001b[0m\u001b[0mapp\u001b[0m\u001b[0;34m)\u001b[0m\u001b[0;34m\u001b[0m\u001b[0;34m\u001b[0m\u001b[0m\n\u001b[1;32m      4\u001b[0m \u001b[0;34m\u001b[0m\u001b[0m\n\u001b[1;32m      5\u001b[0m \u001b[0;31m#@app.route('/', methods=['GET', 'POST'])\u001b[0m\u001b[0;34m\u001b[0m\u001b[0;34m\u001b[0m\u001b[0m\n",
            "\u001b[0;31mNameError\u001b[0m: name 'Flask' is not defined"
          ]
        }
      ]
    }
  ]
}