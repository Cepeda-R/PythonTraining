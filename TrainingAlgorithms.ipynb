{
  "nbformat": 4,
  "nbformat_minor": 0,
  "metadata": {
    "colab": {
      "provenance": [],
      "collapsed_sections": [
        "apfPnGSw9O9k",
        "0QKxnnZ2IF2m",
        "AY4HJvA_a1Qe",
        "is9Nb6y1brzX"
      ],
      "authorship_tag": "ABX9TyOfrB/JE+Lp8YT2PvfJF0Cu",
      "include_colab_link": true
    },
    "kernelspec": {
      "name": "python3",
      "display_name": "Python 3"
    },
    "language_info": {
      "name": "python"
    }
  },
  "cells": [
    {
      "cell_type": "markdown",
      "metadata": {
        "id": "view-in-github",
        "colab_type": "text"
      },
      "source": [
        "<a href=\"https://colab.research.google.com/github/Cepeda-R/PythonTraining/blob/main/TrainingAlgorithms.ipynb\" target=\"_parent\"><img src=\"https://colab.research.google.com/assets/colab-badge.svg\" alt=\"Open In Colab\"/></a>"
      ]
    },
    {
      "cell_type": "code",
      "source": [
        "import numpy as np\n",
        "import pandas as pd\n",
        "import matplotlib.pyplot as plt\n",
        "import seaborn as sns\n",
        "import datetime\n",
        "from datetime import date\n",
        "from pandas import datetime\n",
        "%matplotlib inline\n",
        "%config IPCompleter.greedy=True\n",
        "\n",
        "import plotly.express as px\n",
        "import plotly.graph_objects as go\n",
        "import plotly.figure_factory as ff\n",
        "\n",
        "from scipy.stats import shapiro\n",
        "import statsmodels.api as sm \n",
        "import pylab as py \n",
        "\n",
        "import warnings\n",
        "warnings.filterwarnings(\"ignore\")"
      ],
      "metadata": {
        "colab": {
          "base_uri": "https://localhost:8080/"
        },
        "id": "huRlECEP5gcJ",
        "outputId": "feb1520b-b8eb-43a1-aa3b-de0b7cffc552"
      },
      "execution_count": null,
      "outputs": [
        {
          "output_type": "stream",
          "name": "stderr",
          "text": [
            "/usr/local/lib/python3.7/dist-packages/ipykernel_launcher.py:7: FutureWarning: The pandas.datetime class is deprecated and will be removed from pandas in a future version. Import from datetime module instead.\n",
            "  import sys\n"
          ]
        }
      ]
    },
    {
      "cell_type": "markdown",
      "source": [
        "## REVERSED INTEGER"
      ],
      "metadata": {
        "id": "apfPnGSw9O9k"
      }
    },
    {
      "cell_type": "code",
      "source": [
        "# Given an integer, return the integer with reversed digits.\n",
        "# Note: The integer could be either positive or negative.\n",
        "\n",
        "num = 987654321\n",
        "#print(str(num)[::-1])\n",
        "# meio => How many you want to see since the beginning\n",
        "# inicio => Where it begins\n",
        "#create a function\n",
        "\n",
        "def string_reverse(choose_number):\n",
        "    if num > 0:\n",
        "        print(str(num)[::-1])\n",
        "    else:\n",
        "        print('not available')\n",
        "        \n",
        "string_reverse(num)"
      ],
      "metadata": {
        "colab": {
          "base_uri": "https://localhost:8080/"
        },
        "id": "xULbnqKU9Ec1",
        "outputId": "4e7d507d-0200-452c-9478-385f7608a1ce"
      },
      "execution_count": null,
      "outputs": [
        {
          "output_type": "stream",
          "name": "stdout",
          "text": [
            "123456789\n"
          ]
        }
      ]
    },
    {
      "cell_type": "code",
      "source": [
        "#define a function and a for loop\n",
        "number = [25,30,55,100,120,145]\n",
        "number2 = (1,22,33,44,55,66,77,88,99,100)\n",
        "\n",
        "def string_reverse(choose_num):\n",
        "    for i in number:\n",
        "        print(str(number2)[::-1])\n",
        "        break\n",
        "        \n",
        "string_reverse(number2)"
      ],
      "metadata": {
        "colab": {
          "base_uri": "https://localhost:8080/"
        },
        "id": "NjAe8hMzCN7h",
        "outputId": "9d178c5d-b22e-435d-dce1-807b0648b058"
      },
      "execution_count": null,
      "outputs": [
        {
          "output_type": "stream",
          "name": "stdout",
          "text": [
            ")001 ,99 ,88 ,77 ,66 ,55 ,44 ,33 ,22 ,1(\n"
          ]
        }
      ]
    },
    {
      "cell_type": "markdown",
      "source": [
        "## AVERAGE WORD LENGTH"
      ],
      "metadata": {
        "id": "0QKxnnZ2IF2m"
      }
    },
    {
      "cell_type": "code",
      "source": [
        "# For a given sentence, return the average word length. \n",
        "# Note: Remember to remove punctuation first.\n",
        "import string\n",
        "sentence1 = \"Hi all, my name is Tom...I am originally from Australia.\"\n",
        "sentence2 = \"I need to work very hard to learn more about algorithms in Python!\"\n",
        "\n",
        "sentence1 = sentence1.translate(str.maketrans('', '', string.punctuation))\n",
        "sentence2 = sentence2.translate(str.maketrans('', '', string.punctuation))\n",
        "\n",
        "sentence1_word = len(sentence1.split())\n",
        "sentence1_len = len(sentence1)\n",
        "sentence2_word = len(sentence2.split())\n",
        "sentence2_len = len(sentence2)\n",
        "\n",
        "result1 = sentence1_len/sentence1_word\n",
        "result2 = sentence2_len/sentence2_word\n",
        "\n",
        "print('sentence1 average word length is', result1, 'and sentence2 for', result2)"
      ],
      "metadata": {
        "colab": {
          "base_uri": "https://localhost:8080/"
        },
        "id": "C8WLVMBWCOfM",
        "outputId": "5d872c92-8401-4f4c-8073-1e326a835c97"
      },
      "execution_count": null,
      "outputs": [
        {
          "output_type": "stream",
          "name": "stdout",
          "text": [
            "sentence1 average word length is 5.1 and sentence2 for 5.0\n"
          ]
        }
      ]
    },
    {
      "cell_type": "markdown",
      "source": [
        "how to transform to a function?"
      ],
      "metadata": {
        "id": "fqdEsnIpZHSm"
      }
    },
    {
      "cell_type": "code",
      "source": [
        "sentence1 = \"Hi all, my name is Tom...I am originally from Australia.\"\n",
        "sentence2 = \"I need to work very hard to learn more about algorithms in Python!\""
      ],
      "metadata": {
        "id": "cn2LHRfTaKyq"
      },
      "execution_count": null,
      "outputs": []
    },
    {
      "cell_type": "code",
      "source": [
        "def word_average (choose_sentence):\n",
        "    sentence_chosen = choose_sentence.translate(str.maketrans('', '', string.punctuation))\n",
        "    sentence_chosen_wordnum = len(sentence_chosen.split())\n",
        "    sentence_chosen_strnum = len(sentence_chosen)\n",
        "    result1 = sentence_chosen_strnum/sentence_chosen_wordnum\n",
        "    print(result1)"
      ],
      "metadata": {
        "id": "h7tP6ftIEPI6"
      },
      "execution_count": null,
      "outputs": []
    },
    {
      "cell_type": "code",
      "source": [
        "if sentence1 != \"\":\n",
        "    word_average(sentence1)"
      ],
      "metadata": {
        "colab": {
          "base_uri": "https://localhost:8080/"
        },
        "id": "tWD4FbA1LHSf",
        "outputId": "7905b761-97c3-4653-b175-2603eae11e0e"
      },
      "execution_count": null,
      "outputs": [
        {
          "output_type": "stream",
          "name": "stdout",
          "text": [
            "5.1\n"
          ]
        }
      ]
    },
    {
      "cell_type": "markdown",
      "source": [
        "## ADD STRINGS"
      ],
      "metadata": {
        "id": "AY4HJvA_a1Qe"
      }
    },
    {
      "cell_type": "code",
      "source": [
        "# Given two non-negative integers num1 and num2 represented as string, return the sum of num1 and num2.\n",
        "# You must not use any built-in BigInteger library or convert the inputs to integer directly.\n",
        "\n",
        "#Notes:\n",
        "#Both num1 and num2 contains only digits 0-9.\n",
        "#Both num1 and num2 does not contain any leading zero.\n",
        "\n",
        "num1 = '364'\n",
        "num2 = '1836'"
      ],
      "metadata": {
        "id": "irEKKuUyaMyS"
      },
      "execution_count": null,
      "outputs": []
    },
    {
      "cell_type": "code",
      "source": [
        "result = float(num1) + float (num2)\n",
        "result = eval(num1) + eval(num2)"
      ],
      "metadata": {
        "id": "kusAqhzka5yJ"
      },
      "execution_count": null,
      "outputs": []
    },
    {
      "cell_type": "markdown",
      "source": [
        "## FIRST UNIQUE CHARACTER"
      ],
      "metadata": {
        "id": "is9Nb6y1brzX"
      }
    },
    {
      "cell_type": "code",
      "source": [
        "# Given a string, find the first non-repeating character in it and return its index. \n",
        "# If it doesn't exist, return -1. # Note: all the input strings are already lowercase.\n",
        "one_string = 'concluido'\n",
        "#index começa em 0"
      ],
      "metadata": {
        "id": "6kkTxAEObnBu"
      },
      "execution_count": null,
      "outputs": []
    },
    {
      "cell_type": "code",
      "source": [
        "from collections import Counter\n",
        "one_string_split = list(one_string)\n",
        "count_one_string = Counter(one_string_split)\n",
        "count_one_string "
      ],
      "metadata": {
        "colab": {
          "base_uri": "https://localhost:8080/"
        },
        "id": "7Egg9RLEdEux",
        "outputId": "fdf0c53e-0a00-40b1-cb32-986037794d98"
      },
      "execution_count": null,
      "outputs": [
        {
          "output_type": "execute_result",
          "data": {
            "text/plain": [
              "Counter({'c': 2, 'o': 2, 'n': 1, 'l': 1, 'u': 1, 'i': 1, 'd': 1})"
            ]
          },
          "metadata": {},
          "execution_count": 110
        }
      ]
    },
    {
      "cell_type": "code",
      "source": [
        "character = min(count_one_string.items(), key=lambda x: x[1])[0]\n",
        "one_string = 'concluido'\n",
        "print(one_string.index(character))"
      ],
      "metadata": {
        "colab": {
          "base_uri": "https://localhost:8080/"
        },
        "id": "Gz-4DYEXbzLf",
        "outputId": "1398f093-1b6f-4f90-f871-42ffe5e54c9f"
      },
      "execution_count": null,
      "outputs": [
        {
          "output_type": "stream",
          "name": "stdout",
          "text": [
            "2\n"
          ]
        }
      ]
    },
    {
      "cell_type": "markdown",
      "source": [
        "Transformar em Função para Qualquer palavra"
      ],
      "metadata": {
        "id": "jBWLyywSjWSh"
      }
    },
    {
      "cell_type": "code",
      "source": [
        "from collections import Counter\n",
        "\n",
        "def word_index (choose_string):\n",
        "    one_string_split = list(choose_string)\n",
        "    count_one_string = Counter(one_string_split)\n",
        "    character = min(count_one_string.items(), key=lambda x: x[1])[0]\n",
        "    print(choose_string.index(character))\n"
      ],
      "metadata": {
        "id": "XIo2PVuojTQs"
      },
      "execution_count": null,
      "outputs": []
    },
    {
      "cell_type": "code",
      "source": [
        "love = 'enloqueça'\n",
        "word_index(love)"
      ],
      "metadata": {
        "colab": {
          "base_uri": "https://localhost:8080/"
        },
        "id": "cIIH3rI-cjGh",
        "outputId": "aa051736-fa40-48d3-b96f-47417f9c20e9"
      },
      "execution_count": null,
      "outputs": [
        {
          "output_type": "stream",
          "name": "stdout",
          "text": [
            "1\n"
          ]
        }
      ]
    },
    {
      "cell_type": "markdown",
      "source": [
        "##Arrays with Dupplicates"
      ],
      "metadata": {
        "id": "pLH7M1C9yCQ2"
      }
    },
    {
      "cell_type": "code",
      "source": [
        "#in a array [], if they have dupplicates return True\n",
        "nums[1,1,1,3]\n",
        "class Solution:\n",
        "    def containsDuplicate(self, nums: List[int]) -> bool:\n",
        "        if len(nums) != len(set(nums)):\n",
        "            print('yeah they diff')\n",
        "            return True"
      ],
      "metadata": {
        "id": "FZ9e6v6XyFp1"
      },
      "execution_count": null,
      "outputs": []
    },
    {
      "cell_type": "markdown",
      "source": [
        "##ARRAY SUM TO A TARGET"
      ],
      "metadata": {
        "id": "JlYz44m0NnY_"
      }
    },
    {
      "cell_type": "code",
      "source": [
        "class Solution:\n",
        "    def twoSum(self, nums: List[int], target: int) -> List[int]:\n",
        "        for i, num_a in enumerate(nums): \n",
        "            for j, num_b in enumerate(nums):    \n",
        "                if i != j and num_a + num_b == target:\n",
        "                    return[i,j]"
      ],
      "metadata": {
        "id": "tLWMCx83NnAx"
      },
      "execution_count": null,
      "outputs": []
    },
    {
      "cell_type": "markdown",
      "source": [
        "##DUPLICATE ARRAY"
      ],
      "metadata": {
        "id": "8I-jE-Ea0ZqC"
      }
    },
    {
      "cell_type": "code",
      "source": [
        "class Solution:\n",
        "    def getConcatenation(self, nums: List[int]) -> List[int]:\n",
        "        import numpy as np\n",
        "        n = len(nums)\n",
        "        ans1 = []\n",
        "        ans2 = []\n",
        "        for i in range(n):\n",
        "                ans1.append(nums[i])\n",
        "                ans2.append(nums[i])\n",
        "        ans = np.concatenate((ans1, ans2))\n",
        "        return ans"
      ],
      "metadata": {
        "id": "D-19XDOA0ccG"
      },
      "execution_count": null,
      "outputs": []
    },
    {
      "cell_type": "markdown",
      "source": [
        "##REPLACES . by [.] IN STRINGS"
      ],
      "metadata": {
        "id": "2HGaAT1Z1otd"
      }
    },
    {
      "cell_type": "code",
      "source": [
        "class Solution:\n",
        "    def defangIPaddr(self, address: str) -> str:\n",
        "        address = address.replace(\".\", \"[.]\")\n",
        "        return address\n"
      ],
      "metadata": {
        "id": "kiiM0TDn1tlX"
      },
      "execution_count": null,
      "outputs": []
    },
    {
      "cell_type": "markdown",
      "source": [
        "##INTERLOCK x1 y1 in ARRAY"
      ],
      "metadata": {
        "id": "EMhz23Z05eeS"
      }
    },
    {
      "cell_type": "code",
      "source": [
        "class Solution:\n",
        "    def shuffle(self, nums: List[int], n: int) -> List[int]: \n",
        "        return chain(*zip(nums[:n], nums[n:]))\n",
        "\n",
        "        #nums[:n] last 3\n",
        "        #nums[n:] first 3\n",
        "        #*zip interlock the 2 arrays\n",
        "        #chain remove the interlock "
      ],
      "metadata": {
        "id": "GE5uuVM__0BQ"
      },
      "execution_count": null,
      "outputs": []
    },
    {
      "cell_type": "markdown",
      "source": [
        "##COUNT DISTINCT VALUES IN ARRAY"
      ],
      "metadata": {
        "id": "9A-OeDQXUqQT"
      }
    },
    {
      "cell_type": "code",
      "source": [
        "class Solution:\n",
        "    def uniqueOccurrences(self, arr: List[int]) -> bool:\n",
        "        counter = Counter(arr) #transform array into counter array\n",
        "        return len(counter) == len(set(counter.values())) \n",
        "        #if counter array has less distinct counts it means that has values with the same counts"
      ],
      "metadata": {
        "id": "ZrX_6oNmUtZ2"
      },
      "execution_count": null,
      "outputs": []
    }
  ]
}