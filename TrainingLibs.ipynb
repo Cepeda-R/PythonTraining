{
  "nbformat": 4,
  "nbformat_minor": 0,
  "metadata": {
    "colab": {
      "provenance": [],
      "authorship_tag": "ABX9TyPa3enaACc5ZNmSxXtNOo7U",
      "include_colab_link": true
    },
    "kernelspec": {
      "name": "python3",
      "display_name": "Python 3"
    },
    "language_info": {
      "name": "python"
    }
  },
  "cells": [
    {
      "cell_type": "markdown",
      "metadata": {
        "id": "view-in-github",
        "colab_type": "text"
      },
      "source": [
        "<a href=\"https://colab.research.google.com/github/Cepeda-R/PythonTraining/blob/main/TrainingLibs.ipynb\" target=\"_parent\"><img src=\"https://colab.research.google.com/assets/colab-badge.svg\" alt=\"Open In Colab\"/></a>"
      ]
    },
    {
      "cell_type": "markdown",
      "source": [
        "##ETL"
      ],
      "metadata": {
        "id": "T_h-B7UWZ1sC"
      }
    },
    {
      "cell_type": "code",
      "source": [
        "#data treatment (ETL)\n",
        "import pandas as pd\n",
        "import numpy as np\n",
        "import datetime\n",
        "from datetime import date\n",
        "from pandas import datetime"
      ],
      "metadata": {
        "id": "qPjEWE-YZ39z"
      },
      "execution_count": null,
      "outputs": []
    },
    {
      "cell_type": "markdown",
      "source": [
        "##EDA"
      ],
      "metadata": {
        "id": "ErVro_40Z54K"
      }
    },
    {
      "cell_type": "code",
      "source": [
        "#data analysis (EDA)\n",
        "import sweetviz as sv #EDA Auto UI\n",
        "\n",
        "#plots & images\n",
        "import matplotlib.pyplot as plt\n",
        "import seaborn as sns\n",
        "import plotly.express as px\n",
        "import pylab as py #bulk imports matplotlib. pyplot\n",
        "\n",
        "#Image ETL (batches)\n",
        "import cv2 #Transform image to numpy array \n",
        "import imghdr #image extension\n",
        "import imageio #Transform image to numpy array"
      ],
      "metadata": {
        "id": "o2NmbFSXZ7gj"
      },
      "execution_count": null,
      "outputs": []
    },
    {
      "cell_type": "markdown",
      "source": [
        "##STATISTICS"
      ],
      "metadata": {
        "id": "sjCmOanSZ7O_"
      }
    },
    {
      "cell_type": "code",
      "source": [
        "#Statistics\n",
        "import scipy.stats\n",
        "import statsmodels.api as sm \n",
        "from scipy.stats import shapiro #Check normality\n",
        "from scipy.stats import spearmanr #Check normality\n",
        "from statsmodels.formula.api import ols #To fit the regression line to the data - Ordinary Least Squares\n",
        "from scipy.stats import boxcox\n",
        "from sklearn.feature_selection import SelectKBest #apply SelectKBest class to extract top 10 best features\n",
        "from sklearn.feature_selection import f_classif #apply f_classif class to extract top 10 best features"
      ],
      "metadata": {
        "id": "2KjnRKMYaHw4"
      },
      "execution_count": null,
      "outputs": []
    },
    {
      "cell_type": "markdown",
      "source": [
        "##WEB SCRAPPING & API"
      ],
      "metadata": {
        "id": "1WxPnMOEaKGk"
      }
    },
    {
      "cell_type": "code",
      "source": [
        "#Web & PDF Scrapping\n",
        "import requests\n",
        "from bs4 import BeautifulSoup #get data from html\n",
        "from tabula.io import read_pdf #get data from pdf\n",
        "\n",
        "#API & JSON ETL\n",
        "import joblib\n",
        "import requests\n",
        "import json "
      ],
      "metadata": {
        "id": "DZ9k_osPaM_s"
      },
      "execution_count": null,
      "outputs": []
    },
    {
      "cell_type": "markdown",
      "source": [
        "##MISC"
      ],
      "metadata": {
        "id": "eALrs1CtaO05"
      }
    },
    {
      "cell_type": "code",
      "source": [
        "#directories\n",
        "import os\n",
        "\n",
        "#misc\n",
        "import warnings\n",
        "warnings.filterwarnings(\"ignore\")\n",
        "%matplotlib inline\n",
        "%config IPCompleter.greedy=True"
      ],
      "metadata": {
        "id": "Cf9B75SraP2R"
      },
      "execution_count": null,
      "outputs": []
    },
    {
      "cell_type": "markdown",
      "source": [
        "##SUPERVISED MODELS"
      ],
      "metadata": {
        "id": "VI_NlkueaS66"
      }
    },
    {
      "cell_type": "code",
      "source": [
        "#Train Supervised Models\n",
        "from sklearn.model_selection import train_test_split\n",
        "\n",
        "\n",
        "from sklearn.naive_bayes import GaussianNB #Classification using Gaussian Distribution\n",
        "\n",
        "from sklearn import neighbors #neighbors classifier\n",
        "from sklearn.neighbors import KNeighborsClassifier\n",
        "\n",
        "from sklearn import svm #Support Vector Machine\n",
        "from sklearn.svm import LinearSVC\n",
        "from sklearn.svm import SVC \n",
        "\n",
        "from sklearn.tree import DecisionTreeClassifier #FTA Classifier\n",
        "from sklearn.ensemble import RandomForestRegressor \n",
        "from sklearn.ensemble import RandomForestClassifier\n",
        "\n",
        "from sklearn import linear_model\n",
        "from sklearn.linear_model import LogisticRegression #independent vs dependent classification 0 1\n",
        "from sklearn.linear_model import SGDClassifier #Stochastic Gradient Descent (SGD) - optimize model\n",
        "\n",
        "from sklearn.model_selection import KFold #K-Folds cross-validator, split data in train/test sets\n",
        "from sklearn.model_selection import cross_val_score #Cross_val_score method that cross validation on a dataset to test whether the model can generalise\n",
        "from sklearn.model_selection import GridSearchCV #find best hyper parameters \n",
        "\n",
        "from sklearn.metrics import confusion_matrix #true values vs. model values\n",
        "from sklearn.metrics import classification_report #model report accuracy\n",
        "from sklearn.metrics import accuracy_score"
      ],
      "metadata": {
        "id": "IPVSVi8faUqw"
      },
      "execution_count": null,
      "outputs": []
    },
    {
      "cell_type": "markdown",
      "source": [
        "##KERAS & NN"
      ],
      "metadata": {
        "id": "WpN0HfafalLc"
      }
    },
    {
      "cell_type": "code",
      "source": [
        "#Keras and Neural Networks\n",
        "import keras\n",
        "from keras.models import Sequential #create a sequential NN model\n",
        "from keras.layers import Dense, Dropout, Activation\n",
        "from keras.optimizers import SGD\n",
        "\n",
        "from tensorflow.keras.layers import Input, Lambda, Dense, Flatten\n",
        "from tensorflow.keras.models import Model\n",
        "from tensorflow.keras.models import Sequential\n",
        "from tensorflow.python.keras.layers.convolutional import MaxPooling2D\n",
        "\n",
        "#for training images\n",
        "from keras.preprocessing.image import ImageDataGenerator \n",
        "from tensorflow.keras.preprocessing import image_dataset_from_directory\n",
        "from tensorflow.keras import preprocessing"
      ],
      "metadata": {
        "id": "XFcEmEcNanR0"
      },
      "execution_count": null,
      "outputs": []
    },
    {
      "cell_type": "markdown",
      "source": [
        "##FRONTEND"
      ],
      "metadata": {
        "id": "5XAslVI2aa89"
      }
    },
    {
      "cell_type": "code",
      "source": [
        "#Using Flask\n",
        "from flask_ngrok import run_with_ngrok #ngrok parallel local host\n",
        "from flask import Flask, render_template #Front End Dashboard\n",
        "from flask import request \n",
        "import requests\n",
        "\n",
        "#Using Streamlit\n",
        "import streamlit as st #Front End Dashboard"
      ],
      "metadata": {
        "id": "lZG3VZsHT4IJ"
      },
      "execution_count": null,
      "outputs": []
    }
  ]
}